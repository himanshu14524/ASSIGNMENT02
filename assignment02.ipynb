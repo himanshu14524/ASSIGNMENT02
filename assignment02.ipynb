{
 "cells": [
  {
   "cell_type": "code",
   "execution_count": null,
   "id": "9a03f52b-bb96-4e4e-9a7b-8a12a7205667",
   "metadata": {},
   "outputs": [],
   "source": [
    "#ASSIGNMENT 02"
   ]
  },
  {
   "cell_type": "code",
   "execution_count": null,
   "id": "e78654fa-4e68-4535-b7c2-2120c1071ea0",
   "metadata": {},
   "outputs": [],
   "source": [
    "Q1. How do you comment code in Python? What are the different types of comments?\n",
    "\n",
    "ANS-- There are many ways to add comments in python :\n",
    "     using the hash symbol '(#')  and using docstrings."
   ]
  },
  {
   "cell_type": "code",
   "execution_count": null,
   "id": "decb8db4-1cbe-443f-894d-0b2b81ae0d4f",
   "metadata": {},
   "outputs": [],
   "source": [
    "2. What are variables in Python? How do you declare and assign values to variables?\n",
    "ANS-- Variables are used to store and manipulate data.\n",
    "ex- my_name =\"himanshu\" #variable declaration\n",
    "we can also assign varibles to some values like x=4."
   ]
  },
  {
   "cell_type": "code",
   "execution_count": null,
   "id": "85a852f4-5c6f-4f94-8734-d9402d8ffd3a",
   "metadata": {},
   "outputs": [],
   "source": [
    "3. How do you convert one data type to another in Python?\n",
    "ANS-- Python automatically performs implicit type conversion.\n",
    "FOR example -- x = 5 #int data type\n",
    "               y=8.2 #float data type\n",
    "               z = x+y #implicit coversion of data type\n",
    "               print(z) #output : 13.2\n",
    "           and we also used explicit type conversion in python i.e., int(),float() ,str(),list(),tuple(),\n",
    "        set(),dict().These commands are used to convert the data type of another data type.\n",
    "        "
   ]
  },
  {
   "cell_type": "code",
   "execution_count": null,
   "id": "e3691209-9778-48cb-a48f-59a9c973188c",
   "metadata": {},
   "outputs": [],
   "source": [
    "4. How do you write and execute a Python script from the command line?\n",
    "ANS--1.Open a text editor and create a new file with a .py extension. \n",
    "For example, you can create a file named myscript.py.\n",
    "Write a Python code in the file using the text editor.\n",
    "For example, let's create a simple script that prints \"Hello, World!\" to the console:\n",
    "print(\"Hello, World!\")\n",
    "3.Save the file.\n",
    "\n",
    "4.Open a command prompt or terminal window.\n",
    "\n",
    "5.Navigate to the directory where your Python script is\n",
    "located using the cd (change directory) command\n"
   ]
  },
  {
   "cell_type": "code",
   "execution_count": null,
   "id": "488fde47-4bc6-4b81-8d8b-a7232271da6e",
   "metadata": {},
   "outputs": [],
   "source": [
    "5. Given a list my_list = [1, 2, 3, 4, 5], write the code to slice the list and obtain the sub-list [2, 3].\n",
    "ANS--my_list = [1, 2, 3, 4, 5]\n",
    "     sub_list = my_list[1:3]\n",
    "     print(sub_list)\n"
   ]
  },
  {
   "cell_type": "code",
   "execution_count": null,
   "id": "88f40b8a-f68c-41de-9d30-a766f8392627",
   "metadata": {},
   "outputs": [],
   "source": [
    "6. What is a complex number in mathematics, and how is it represented in Python?\n",
    "ANS-- A complex number is a number of the form a + bi,\n",
    "where a and b are real numbers and i represents the imaginary unit,\n",
    "which is defined as the square root of -1. \n",
    "The real part of the complex number is denoted by a, \n",
    "and the imaginary part is denoted by b.\n",
    "\n",
    "IN PYTHON Complex numbers are supported as a built-in data type.\n",
    "They can be represented using the following format:\n",
    "a + bj\n",
    "\n",
    "\n"
   ]
  },
  {
   "cell_type": "code",
   "execution_count": null,
   "id": "a2c35246-6c41-496c-b473-1108ab3adb00",
   "metadata": {},
   "outputs": [],
   "source": [
    "7. What is the correct way to declare a variable named age and assign the value 25 to it?\n",
    "ANS-- age=25\n"
   ]
  },
  {
   "cell_type": "code",
   "execution_count": null,
   "id": "be6abbc5-db3d-4812-ac09-1e879d63c48f",
   "metadata": {},
   "outputs": [],
   "source": [
    "8. Declare a variable named price and assign the value 9.99 to it. What data type does this variable\n",
    "belong to?\n",
    "ANS-- price = 9.99 #it is a float data type used to represent decimal numbers "
   ]
  },
  {
   "cell_type": "code",
   "execution_count": null,
   "id": "75488dc7-efc2-44c3-b3da-9ca1c25cfbd1",
   "metadata": {},
   "outputs": [],
   "source": [
    "9. Create a variable named name and assign your full name to it as a string. How would you print the\n",
    "value of this variable?\n",
    "\n",
    "ANS-- name = \"HIMANSHU KUMAR VERMA\"\n",
    "      print(name)\n",
    "    "
   ]
  },
  {
   "cell_type": "code",
   "execution_count": null,
   "id": "9152787c-f354-4e9d-9607-1ed19d66da3b",
   "metadata": {},
   "outputs": [],
   "source": [
    "10. Given the string \"Hello, World!\", extract the substring \"World\".\n",
    "\n",
    "ANS--s = \"Hello, World!\"\n",
    "         substring = s[7:12]\n",
    "         print(substring) #output:World\n"
   ]
  },
  {
   "cell_type": "code",
   "execution_count": null,
   "id": "8270af36-05d0-49fe-8618-44c747f1301f",
   "metadata": {},
   "outputs": [],
   "source": [
    "11. Create a variable named \"is_student\" and assign it a boolean value indicating whether you are\n",
    "currently a student or not.\n",
    "\n",
    "ANS-- is_student = True\n",
    "it is indicating whether you are student or not ."
   ]
  }
 ],
 "metadata": {
  "kernelspec": {
   "display_name": "Python 3 (ipykernel)",
   "language": "python",
   "name": "python3"
  },
  "language_info": {
   "codemirror_mode": {
    "name": "ipython",
    "version": 3
   },
   "file_extension": ".py",
   "mimetype": "text/x-python",
   "name": "python",
   "nbconvert_exporter": "python",
   "pygments_lexer": "ipython3",
   "version": "3.10.8"
  }
 },
 "nbformat": 4,
 "nbformat_minor": 5
}
